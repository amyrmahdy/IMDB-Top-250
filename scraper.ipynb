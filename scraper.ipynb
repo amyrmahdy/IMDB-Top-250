{
 "cells": [
  {
   "cell_type": "code",
   "execution_count": 24,
   "metadata": {},
   "outputs": [],
   "source": [
    "import numpy as np\n",
    "import polars as pl\n",
    "from selenium import webdriver\n",
    "from bs4 import BeautifulSoup\n",
    "\n",
    "\n",
    "\n",
    "# Top 250 Movie URL\n",
    "url = 'https://www.imdb.com/chart/top/'\n",
    "\n",
    "\n",
    "driver = webdriver.Chrome()\n",
    "driver.get(url)\n",
    "soup = BeautifulSoup(driver.page_source, 'html5lib')\n",
    "driver.quit()\n",
    "\n",
    "\n",
    "movies = soup.find_all('div', {'class' : 'sc-14dd939d-0 fBusXE cli-children'})\n",
    "rows = []\n",
    "\n",
    "for movie in movies:\n",
    "    # New row\n",
    "    row = []\n",
    "    \n",
    "    # Title\n",
    "    title_raw = movie.find('h3',{'class': 'ipc-title__text' })\n",
    "    title = ' '.join(title_raw.text.split()[1:])\n",
    "    row.append(title)\n",
    "\n",
    "    # Rate\n",
    "    rate_raw = movie.find('span', {'class' : 'ipc-rating-star ipc-rating-star--base ipc-rating-star--imdb ratingGroup--imdb-rating'})\n",
    "    rate = rate_raw['aria-label'].split()[-1]\n",
    "    row.append(float(rate))\n",
    "\n",
    "\n",
    "    # Year\n",
    "    year_duration_raw = movie.find_all('span',{'class': 'sc-14dd939d-6 kHVqMR cli-title-metadata-item' })\n",
    "    year = year_duration_raw[0].text\n",
    "    row.append(int(year))\n",
    "\n",
    "    # Duration\n",
    "    duration_raw = year_duration_raw[1].text\n",
    "    duration_splitted = duration_raw.split()\n",
    "    hour = duration_splitted[0][:-1]\n",
    "    if len(duration_splitted) > 1:\n",
    "        minutes = duration_splitted[1][:-1]\n",
    "    else:\n",
    "        minutes = 0\n",
    "    duration = int(hour) * 60 + int(minutes)\n",
    "    row.append(duration)\n",
    "    \n",
    "    # Append row to rows\n",
    "    rows.append(row)"
   ]
  },
  {
   "cell_type": "code",
   "execution_count": 56,
   "metadata": {},
   "outputs": [],
   "source": [
    "df = pl.DataFrame(rows, schema=[(\"title\", pl.Utf8), (\"rate\", pl.Float32), (\"year\", pl.Int32), (\"duration\", pl.Int32)])\n",
    "rank = np.arange(1,251, dtype = np.int32)\n",
    "df = df.with_columns(pl.lit(rank).alias(\"rank\"))\n",
    "df.write_csv(\"top250imdb_2023-07-07.csv\", separator = \",\")"
   ]
  },
  {
   "cell_type": "code",
   "execution_count": 4,
   "metadata": {},
   "outputs": [],
   "source": [
    "# import pandas as pd\n",
    "# columns = ['title','rate','year', 'duration']\n",
    "# df = pd.DataFrame(rows, columns = columns)\n",
    "# df = df.reset_index()\n",
    "# df[\"index\"] = df[\"index\"] + 1\n",
    "# df.rename(columns = {\"index\" : \"rank\"}, inplace = True)\n",
    "# df.to_csv(\"top250imdb_2023-07-07\", index = False)"
   ]
  }
 ],
 "metadata": {
  "kernelspec": {
   "display_name": "Python 3",
   "language": "python",
   "name": "python3"
  },
  "language_info": {
   "codemirror_mode": {
    "name": "ipython",
    "version": 3
   },
   "file_extension": ".py",
   "mimetype": "text/x-python",
   "name": "python",
   "nbconvert_exporter": "python",
   "pygments_lexer": "ipython3",
   "version": "3.9.2"
  },
  "orig_nbformat": 4
 },
 "nbformat": 4,
 "nbformat_minor": 2
}
